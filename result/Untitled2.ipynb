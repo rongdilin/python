{
 "cells": [
  {
   "cell_type": "code",
   "execution_count": 1,
   "metadata": {
    "collapsed": true
   },
   "outputs": [],
   "source": [
    "# System modules\n",
    "import sys\n",
    "from datetime import datetime\n",
    "from IPython.display import display\n",
    "from ipywidgets import Dropdown\n",
    "\n",
    "\n",
    "# Data analysis modules\n",
    "import pandas as pd\n",
    "import numpy as np\n",
    "from scipy.stats import uniform, norm, beta, weibull_min, rv_discrete\n",
    "import random\n",
    "\n",
    "# SimPy modules\n",
    "import simpy\n",
    "from simpy import Resource, Container, FilterStore\n",
    "from simpy.util import start_delayed\n",
    "\n",
    "# Viz modules\n",
    "import matplotlib.pyplot as plt\n",
    "import seaborn as sns\n",
    "import folium\n",
    "from folium import plugins\n",
    "import branca.colormap as cm\n",
    "from folium.plugins import MarkerCluster\n",
    "from folium import Map, FeatureGroup, Marker, LayerControl\n",
    "\n",
    "# DESaster Modules\n",
    "desaster_path = \"./DESaster-master\" # <-- Change this for your path\n",
    "sys.path.append(desaster_path)\n",
    "import desaster\n",
    "from desaster.io import *\n",
    "from desaster.structures import *\n",
    "from desaster.financial import *\n",
    "from desaster.technical import *\n",
    "from desaster.entities import *\n",
    "from desaster.policies import *\n",
    "from desaster.visualize import dashboard, folium_map"
   ]
  },
  {
   "cell_type": "code",
   "execution_count": 2,
   "metadata": {
    "collapsed": true
   },
   "outputs": [],
   "source": [
    "scenario_file = './DESaster-master/inputs/desaster_input_data_template.xlsx'"
   ]
  },
  {
   "cell_type": "code",
   "execution_count": 3,
   "metadata": {
    "collapsed": true
   },
   "outputs": [],
   "source": [
    "owners_df = pd.read_excel(scenario_file, sheet_name='owners')"
   ]
  },
  {
   "cell_type": "code",
   "execution_count": 4,
   "metadata": {},
   "outputs": [
    {
     "data": {
      "text/plain": [
       "Index([u'name', u'address', u'occupancy', u'tenure', u'income', u'savings',\n",
       "       u'credit', u'insurance', u'monthly_cost', u'move_in_cost', u'bedrooms',\n",
       "       u'bathrooms', u'area', u'year_built', u'value', u'damage_state',\n",
       "       u'listed', u'longitude', u'latitude', u'landlord', u'landlord_savings',\n",
       "       u'landlord_insurance', u'landlord_credit'],\n",
       "      dtype='object')"
      ]
     },
     "execution_count": 4,
     "metadata": {},
     "output_type": "execute_result"
    }
   ],
   "source": [
    "owners_df.columns"
   ]
  },
  {
   "cell_type": "code",
   "execution_count": 5,
   "metadata": {
    "collapsed": true
   },
   "outputs": [],
   "source": [
    "env = simpy.Environment()\n"
   ]
  },
  {
   "cell_type": "code",
   "execution_count": 6,
   "metadata": {
    "collapsed": true
   },
   "outputs": [],
   "source": [
    "write_story = True\n"
   ]
  },
  {
   "cell_type": "code",
   "execution_count": 7,
   "metadata": {
    "collapsed": true
   },
   "outputs": [],
   "source": [
    "fema_ia_dist = norm(loc = 10, scale = 0)\n",
    "sba_home_sba_dist = norm(loc = 10, scale = 0)\n",
    "sba_biz_sba_dist = norm(loc = 10, scale = 0)\n",
    "insurance_dist = norm(loc = 10, scale = 0)\n",
    "start_delay_dist = norm(loc = 10, scale = 0)\n",
    "inspection_dist = norm(loc = 0.5, scale = 0)\n",
    "assessment_dist = norm(loc = 10, scale = 0)\n",
    "permitting_dist = norm(loc = 10, scale = 0)\n",
    "repair_dist = norm(loc = 10, scale = 0)\n",
    "demolition_dist = norm(loc = 10, scale = 0)\n",
    "occupy_dist = norm(loc = 10, scale = 0)\n",
    "find_home_dist = norm(loc = 10, scale = 0)\n",
    "\n",
    "declaration = norm.rvs(loc = 30, scale = 0) # Placeholder deterministic scalar that defines number of days before federal disaster declared\n",
    "sba_deadline = norm.rvs(loc = 60, scale = 0) # Typically duration in days after declaration that SBA applications must be submitted"
   ]
  },
  {
   "cell_type": "code",
   "execution_count": 8,
   "metadata": {
    "collapsed": true
   },
   "outputs": [],
   "source": [
    "# Instantiate a FEMA Individual Assistance program\n",
    "fema_ia = HousingAssistanceFEMA(env, staff=100, budget=10000000, duration=fema_ia_dist, \n",
    "                                max_outlay=30000, deadline=540, declaration=declaration)\n",
    "\n",
    "# Instantiate a SBA Loan program to use w/ OwnerHouseholds\n",
    "sba_home_loan = RealPropertyLoanSBA(env, officers=10, inspectors=10, duration=sba_home_sba_dist, \n",
    "                                max_loan = 200000, min_credit = 600, deadline=sba_deadline,\n",
    "                                declaration=declaration)\n",
    "\n",
    "# Instantiate a SBA Loan program to use w/ Landlords (higher maximum for businesses)\n",
    "sba_biz_loan = RealPropertyLoanSBA(env, officers=10, inspectors=10, duration=sba_biz_sba_dist, \n",
    "                           max_loan = 2000000, deadline=sba_deadline, declaration=declaration) # SBA max biz loan = $2mil\n",
    "\n",
    "# Instantiate a private insurance program\n",
    "insurance = OwnersInsurance(env, staff=100, deductible=0.0, duration=insurance_dist)\n",
    "\n",
    "# Instantiate a rapid inspeaction (tagging) program\n",
    "inspection = InspectionProgram(env, staff=1000, duration=inspection_dist)\n",
    "\n",
    "# Instantiate a detailed engineering assessment program\n",
    "assessment = EngineeringAssessment(env, staff=1000, duration=assessment_dist)\n",
    "\n",
    "# Instantiate a building permit processing program\n",
    "permitting = PermitProgram(env, staff=1000, duration=permitting_dist) \n",
    "\n",
    "# Instantiate a program to represent private repair contractors\n",
    "repair = RepairProgram(env, staff=1000, materials=1000000000, duration=repair_dist)\n",
    "\n",
    "# Instantiate a program to represent private demolition contractors\n",
    "demolition = DemolitionProgram(env, staff=1000, duration=demolition_dist)"
   ]
  },
  {
   "cell_type": "code",
   "execution_count": 9,
   "metadata": {
    "collapsed": true
   },
   "outputs": [],
   "source": [
    "# Apply for insurance, FEMA IA, and SBA in that seqence\n",
    "insurance_ia_sba_seq = Insurance_IA_SBA_Sequential(env)\n",
    "\n",
    "# Apply for insurance, FEMA IA, and SBA in at the same time\n",
    "insurance_ia_sba_para = Insurance_IA_SBA_Parallel(env)\n",
    "\n",
    "# Apply for insurance first, then apply to FEMA IA and SBA at the same time\n",
    "insurance_firstthen_ia_sba_para = Insurance_FirstThen_IA_SBA_Parallel(env)\n",
    "\n",
    "# Apply for insurance and SBA in that seqence\n",
    "insurance_sba_seq = Insurance_SBA_Sequential(env)\n",
    "\n",
    "# Apply for insurance and SBA at the same time\n",
    "insurance_sba_para = Insurance_SBA_Parallel(env)\n",
    "\n",
    "# A policy to simulate government buyout to repair homes \n",
    "repair_stock = RepairVacantBuilding(env)"
   ]
  },
  {
   "cell_type": "code",
   "execution_count": 10,
   "metadata": {
    "collapsed": true
   },
   "outputs": [],
   "source": [
    "owned_stock = FilterStore(env)  # To put the residences associated with owners\n",
    "\n",
    "forsale_stock = FilterStore(env) # To put the homes associated with vacant home sellers\n",
    "forrent_stock = FilterStore(env) # To put the homes associated with vacant home landlords"
   ]
  },
  {
   "cell_type": "code",
   "execution_count": 11,
   "metadata": {},
   "outputs": [],
   "source": [
    "owners = importEntities(env, owners_df, 'OwnerHousehold', owned_stock, write_story)\n"
   ]
  },
  {
   "cell_type": "code",
   "execution_count": 12,
   "metadata": {
    "collapsed": true
   },
   "outputs": [],
   "source": [
    "def basic_process(inspection_program, assessment_program, permit_program, repair_program, entity):\n",
    "        \n",
    "    yield env.process(inspection_program.process(entity.property, entity))\n",
    "    \n",
    "    yield env.process(assessment_program.process(entity.property, entity))\n",
    "    \n",
    "    yield env.process(permit_program.process(entity.property, entity))\n",
    "    \n",
    "    yield env.process(repair_program.process(entity.property, entity))"
   ]
  },
  {
   "cell_type": "code",
   "execution_count": 13,
   "metadata": {
    "collapsed": true
   },
   "outputs": [],
   "source": [
    "def owner_process(env, inspection_program, insurance_program, fema_program, loan_program, \n",
    "                 assessment_program, permit_program, demolish_program, rebuild_program, \n",
    "                  search_stock, entity):\n",
    "    \n",
    "    money_patience = 200000  # days until give up the search for rebuild money\n",
    "    home_patience = 15000  # days until give up the search for a new home\n",
    "    \n",
    "    # Do inspections after inspectors are mobilized\n",
    "    yield env.timeout(start_delay_dist.rvs())\n",
    "    yield env.process(inspection_program.process(entity.property, entity))\n",
    "    \n",
    "    # Process damaged properties\n",
    "    if entity.property.damage_state == 'None':\n",
    "        yield env.process(entity.occupy(duration = occupy_dist)) # For book keeping; ~unrealistic \n",
    "    else:\n",
    "        \n",
    "        # Homeowner search for financial assistance. Note two alternate versions \n",
    "        # can be used: insurance_ia_sba_para, insurance_ia_sba_seq, and insurance_firstthen_ia_sba_para. \n",
    "        # Paste in the desired policy approach below.\n",
    "        yield env.process(insurance_firstthen_ia_sba_para.policy(insurance_program, fema_program,\n",
    "                                                   loan_program, entity, money_patience))\n",
    "\n",
    "        # If not enough money to repair home or home completely damaged, search for a new home \n",
    "        # to purchase.\n",
    "        if (entity.recovery_funds.level < entity.property.damage_value or\n",
    "                entity.property.damage_state == 'Complete'):\n",
    "\n",
    "            yield env.process(entity.find_home(search_stock, find_home_dist, down_payment_pct = 0.10,\n",
    "                                                  search_patience = home_patience))\n",
    "            \n",
    "            if entity.gave_up_home_search == None:\n",
    "                yield env.process(entity.occupy(duration = occupy_dist))\n",
    "            \n",
    "            return\n",
    "        # Otherwise repair home.       \n",
    "        elif entity.recovery_funds.level >= entity.property.damage_value:\n",
    "            \n",
    "            yield env.process(assessment_program.process(entity.property, entity))\n",
    "            yield env.process(permit_program.process(entity.property, entity))\n",
    "            if entity.property.damage_state == 'Extensive' or entity.property.damage_state == 'Complete':\n",
    "                yield env.process(demolish_program.process(entity.property, entity))\n",
    "            yield env.process(rebuild_program.process(entity.property, entity))    \n",
    "            yield env.process(entity.occupy(duration = occupy_dist))"
   ]
  },
  {
   "cell_type": "code",
   "execution_count": 14,
   "metadata": {},
   "outputs": [],
   "source": [
    "#inspect.getfullargspec(owner_process).args # Useful to determine what arguments are required for the process.\n",
    "\n",
    "for i in range(len(owners)):\n",
    "    env.process(owner_process(env, inspection, insurance, fema_ia, sba_home_loan, \n",
    "                                    assessment, permitting, demolition, repair,\n",
    "                                    owned_stock, owners[i]))"
   ]
  },
  {
   "cell_type": "code",
   "execution_count": 15,
   "metadata": {},
   "outputs": [],
   "source": [
    "env.run()\n"
   ]
  },
  {
   "cell_type": "code",
   "execution_count": 16,
   "metadata": {},
   "outputs": [
    {
     "name": "stdout",
     "output_type": "stream",
     "text": [
      "('8 out of 8 owners suffered damage to their homes.\\n', '1 out of 8 owners rebuilt or repaired their damaged home.\\n', '0 out of 8 owners gave up searching for money.\\n', '0 out of 8 owners searchesd for a new home.\\n', '0 out of 8 owners bought a new home.\\n', '0 out of 8 owners gave up searching for a home.')\n"
     ]
    }
   ],
   "source": [
    "output_summary(owners, 'OwnerHousehold')\n"
   ]
  },
  {
   "cell_type": "code",
   "execution_count": 17,
   "metadata": {},
   "outputs": [
    {
     "name": "stdout",
     "output_type": "stream",
     "text": [
      "Household Ivy had an attribrute error, 'OwnerHousehold' object has no attribute 'tenure'\n",
      "Household Edward had an attribrute error, 'OwnerHousehold' object has no attribute 'tenure'\n",
      "Household Oswald had an attribrute error, 'OwnerHousehold' object has no attribute 'tenure'\n",
      "Household James had an attribrute error, 'OwnerHousehold' object has no attribute 'tenure'\n",
      "Household Butch had an attribrute error, 'OwnerHousehold' object has no attribute 'tenure'\n",
      "Household Harvey had an attribrute error, 'OwnerHousehold' object has no attribute 'tenure'\n",
      "Household Lee had an attribrute error, 'OwnerHousehold' object has no attribute 'tenure'\n",
      "Household Carmine had an attribrute error, 'OwnerHousehold' object has no attribute 'tenure'\n"
     ]
    }
   ],
   "source": [
    "df = households_to_df(owners)\n"
   ]
  },
  {
   "cell_type": "code",
   "execution_count": 18,
   "metadata": {},
   "outputs": [
    {
     "data": {
      "text/plain": [
       "Index([u'address', u'area', u'assessment', u'assessment_get',\n",
       "       u'assessment_put', u'assistance_payout', u'bathrooms', u'bedrooms',\n",
       "       u'claim_amount', u'claim_get', u'claim_put', u'credit', u'damage_state',\n",
       "       u'damage_state_start', u'damage_value', u'damage_value_start',\n",
       "       u'demolition_get', u'demolition_put', u'env', u'fema_amount',\n",
       "       u'fema_get', u'fema_put', u'gave_up_funding_search',\n",
       "       u'gave_up_home_search', u'home_get', u'home_put', u'income',\n",
       "       u'inspected', u'inspection_get', u'inspection_put', u'insurance',\n",
       "       u'latitude', u'listed', u'longitude', u'monthly_cost', u'name',\n",
       "       u'occupancy', u'occupy_get', u'occupy_put', u'owner', u'permit',\n",
       "       u'permit_get', u'permit_put', u'prior_properties', u'prior_residences',\n",
       "       u'property', u'recovery_funds', u'recovery_limit_state',\n",
       "       u'recovery_limit_state_start', u'repair_get', u'repair_put',\n",
       "       u'residence', u'savings', u'sba_amount', u'sba_get', u'sba_put',\n",
       "       u'stock', u'story', u'tenure', u'value', u'write_story'],\n",
       "      dtype='object')"
      ]
     },
     "execution_count": 18,
     "metadata": {},
     "output_type": "execute_result"
    }
   ],
   "source": [
    "df.columns\n"
   ]
  },
  {
   "cell_type": "code",
   "execution_count": 19,
   "metadata": {},
   "outputs": [],
   "source": [
    "event_list=[]\n",
    "\n",
    "for i in df.columns:\n",
    "    if \"get\" in i or \"put\" in i or \"stop\" in i or \"start\" in i or \"name\" in i or \"gave\" in i:\n",
    "        event_list.append(i)\n",
    "\n",
    "event_df = df[event_list]\n",
    "event_df = event_df.set_index('name')"
   ]
  },
  {
   "cell_type": "code",
   "execution_count": 20,
   "metadata": {},
   "outputs": [
    {
     "data": {
      "text/html": [
       "<div>\n",
       "<style>\n",
       "    .dataframe thead tr:only-child th {\n",
       "        text-align: right;\n",
       "    }\n",
       "\n",
       "    .dataframe thead th {\n",
       "        text-align: left;\n",
       "    }\n",
       "\n",
       "    .dataframe tbody tr th {\n",
       "        vertical-align: top;\n",
       "    }\n",
       "</style>\n",
       "<table border=\"1\" class=\"dataframe\">\n",
       "  <thead>\n",
       "    <tr style=\"text-align: right;\">\n",
       "      <th></th>\n",
       "      <th>assessment_get</th>\n",
       "      <th>assessment_put</th>\n",
       "      <th>claim_get</th>\n",
       "      <th>claim_put</th>\n",
       "      <th>damage_state_start</th>\n",
       "      <th>damage_value_start</th>\n",
       "      <th>demolition_get</th>\n",
       "      <th>demolition_put</th>\n",
       "      <th>fema_get</th>\n",
       "      <th>fema_put</th>\n",
       "      <th>...</th>\n",
       "      <th>inspection_put</th>\n",
       "      <th>occupy_get</th>\n",
       "      <th>occupy_put</th>\n",
       "      <th>permit_get</th>\n",
       "      <th>permit_put</th>\n",
       "      <th>recovery_limit_state_start</th>\n",
       "      <th>repair_get</th>\n",
       "      <th>repair_put</th>\n",
       "      <th>sba_get</th>\n",
       "      <th>sba_put</th>\n",
       "    </tr>\n",
       "    <tr>\n",
       "      <th>name</th>\n",
       "      <th></th>\n",
       "      <th></th>\n",
       "      <th></th>\n",
       "      <th></th>\n",
       "      <th></th>\n",
       "      <th></th>\n",
       "      <th></th>\n",
       "      <th></th>\n",
       "      <th></th>\n",
       "      <th></th>\n",
       "      <th></th>\n",
       "      <th></th>\n",
       "      <th></th>\n",
       "      <th></th>\n",
       "      <th></th>\n",
       "      <th></th>\n",
       "      <th></th>\n",
       "      <th></th>\n",
       "      <th></th>\n",
       "      <th></th>\n",
       "      <th></th>\n",
       "    </tr>\n",
       "  </thead>\n",
       "  <tbody>\n",
       "    <tr>\n",
       "      <th>Ivy</th>\n",
       "      <td>50</td>\n",
       "      <td>40</td>\n",
       "      <td>None</td>\n",
       "      <td>None</td>\n",
       "      <td>Moderate</td>\n",
       "      <td>27900.0</td>\n",
       "      <td>None</td>\n",
       "      <td>None</td>\n",
       "      <td>40</td>\n",
       "      <td>30</td>\n",
       "      <td>...</td>\n",
       "      <td>10.0</td>\n",
       "      <td>80.0</td>\n",
       "      <td>70.0</td>\n",
       "      <td>60</td>\n",
       "      <td>50</td>\n",
       "      <td>Disfunctional</td>\n",
       "      <td>70</td>\n",
       "      <td>60</td>\n",
       "      <td>None</td>\n",
       "      <td>30</td>\n",
       "    </tr>\n",
       "    <tr>\n",
       "      <th>Edward</th>\n",
       "      <td>None</td>\n",
       "      <td>None</td>\n",
       "      <td>None</td>\n",
       "      <td>None</td>\n",
       "      <td>None</td>\n",
       "      <td>0.0</td>\n",
       "      <td>None</td>\n",
       "      <td>None</td>\n",
       "      <td>None</td>\n",
       "      <td>None</td>\n",
       "      <td>...</td>\n",
       "      <td>10.0</td>\n",
       "      <td>20.5</td>\n",
       "      <td>10.5</td>\n",
       "      <td>None</td>\n",
       "      <td>None</td>\n",
       "      <td>Functional</td>\n",
       "      <td>None</td>\n",
       "      <td>None</td>\n",
       "      <td>None</td>\n",
       "      <td>None</td>\n",
       "    </tr>\n",
       "    <tr>\n",
       "      <th>Oswald</th>\n",
       "      <td>None</td>\n",
       "      <td>None</td>\n",
       "      <td>None</td>\n",
       "      <td>None</td>\n",
       "      <td>None</td>\n",
       "      <td>0.0</td>\n",
       "      <td>None</td>\n",
       "      <td>None</td>\n",
       "      <td>None</td>\n",
       "      <td>None</td>\n",
       "      <td>...</td>\n",
       "      <td>10.0</td>\n",
       "      <td>20.5</td>\n",
       "      <td>10.5</td>\n",
       "      <td>None</td>\n",
       "      <td>None</td>\n",
       "      <td>Functional</td>\n",
       "      <td>None</td>\n",
       "      <td>None</td>\n",
       "      <td>None</td>\n",
       "      <td>None</td>\n",
       "    </tr>\n",
       "    <tr>\n",
       "      <th>James</th>\n",
       "      <td>None</td>\n",
       "      <td>None</td>\n",
       "      <td>None</td>\n",
       "      <td>None</td>\n",
       "      <td>None</td>\n",
       "      <td>0.0</td>\n",
       "      <td>None</td>\n",
       "      <td>None</td>\n",
       "      <td>None</td>\n",
       "      <td>None</td>\n",
       "      <td>...</td>\n",
       "      <td>10.0</td>\n",
       "      <td>20.5</td>\n",
       "      <td>10.5</td>\n",
       "      <td>None</td>\n",
       "      <td>None</td>\n",
       "      <td>Functional</td>\n",
       "      <td>None</td>\n",
       "      <td>None</td>\n",
       "      <td>None</td>\n",
       "      <td>None</td>\n",
       "    </tr>\n",
       "    <tr>\n",
       "      <th>Butch</th>\n",
       "      <td>None</td>\n",
       "      <td>None</td>\n",
       "      <td>None</td>\n",
       "      <td>None</td>\n",
       "      <td>None</td>\n",
       "      <td>0.0</td>\n",
       "      <td>None</td>\n",
       "      <td>None</td>\n",
       "      <td>None</td>\n",
       "      <td>None</td>\n",
       "      <td>...</td>\n",
       "      <td>10.0</td>\n",
       "      <td>20.5</td>\n",
       "      <td>10.5</td>\n",
       "      <td>None</td>\n",
       "      <td>None</td>\n",
       "      <td>Functional</td>\n",
       "      <td>None</td>\n",
       "      <td>None</td>\n",
       "      <td>None</td>\n",
       "      <td>None</td>\n",
       "    </tr>\n",
       "    <tr>\n",
       "      <th>Harvey</th>\n",
       "      <td>None</td>\n",
       "      <td>None</td>\n",
       "      <td>None</td>\n",
       "      <td>None</td>\n",
       "      <td>None</td>\n",
       "      <td>0.0</td>\n",
       "      <td>None</td>\n",
       "      <td>None</td>\n",
       "      <td>None</td>\n",
       "      <td>None</td>\n",
       "      <td>...</td>\n",
       "      <td>10.0</td>\n",
       "      <td>20.5</td>\n",
       "      <td>10.5</td>\n",
       "      <td>None</td>\n",
       "      <td>None</td>\n",
       "      <td>Functional</td>\n",
       "      <td>None</td>\n",
       "      <td>None</td>\n",
       "      <td>None</td>\n",
       "      <td>None</td>\n",
       "    </tr>\n",
       "    <tr>\n",
       "      <th>Lee</th>\n",
       "      <td>None</td>\n",
       "      <td>None</td>\n",
       "      <td>None</td>\n",
       "      <td>None</td>\n",
       "      <td>None</td>\n",
       "      <td>0.0</td>\n",
       "      <td>None</td>\n",
       "      <td>None</td>\n",
       "      <td>None</td>\n",
       "      <td>None</td>\n",
       "      <td>...</td>\n",
       "      <td>10.0</td>\n",
       "      <td>20.5</td>\n",
       "      <td>10.5</td>\n",
       "      <td>None</td>\n",
       "      <td>None</td>\n",
       "      <td>Functional</td>\n",
       "      <td>None</td>\n",
       "      <td>None</td>\n",
       "      <td>None</td>\n",
       "      <td>None</td>\n",
       "    </tr>\n",
       "    <tr>\n",
       "      <th>Carmine</th>\n",
       "      <td>None</td>\n",
       "      <td>None</td>\n",
       "      <td>None</td>\n",
       "      <td>None</td>\n",
       "      <td>None</td>\n",
       "      <td>0.0</td>\n",
       "      <td>None</td>\n",
       "      <td>None</td>\n",
       "      <td>None</td>\n",
       "      <td>None</td>\n",
       "      <td>...</td>\n",
       "      <td>10.0</td>\n",
       "      <td>20.5</td>\n",
       "      <td>10.5</td>\n",
       "      <td>None</td>\n",
       "      <td>None</td>\n",
       "      <td>Functional</td>\n",
       "      <td>None</td>\n",
       "      <td>None</td>\n",
       "      <td>None</td>\n",
       "      <td>None</td>\n",
       "    </tr>\n",
       "  </tbody>\n",
       "</table>\n",
       "<p>8 rows × 25 columns</p>\n",
       "</div>"
      ],
      "text/plain": [
       "        assessment_get assessment_put claim_get claim_put damage_state_start  \\\n",
       "name                                                                           \n",
       "Ivy                 50             40      None      None           Moderate   \n",
       "Edward            None           None      None      None               None   \n",
       "Oswald            None           None      None      None               None   \n",
       "James             None           None      None      None               None   \n",
       "Butch             None           None      None      None               None   \n",
       "Harvey            None           None      None      None               None   \n",
       "Lee               None           None      None      None               None   \n",
       "Carmine           None           None      None      None               None   \n",
       "\n",
       "         damage_value_start demolition_get demolition_put fema_get fema_put  \\\n",
       "name                                                                          \n",
       "Ivy                 27900.0           None           None       40       30   \n",
       "Edward                  0.0           None           None     None     None   \n",
       "Oswald                  0.0           None           None     None     None   \n",
       "James                   0.0           None           None     None     None   \n",
       "Butch                   0.0           None           None     None     None   \n",
       "Harvey                  0.0           None           None     None     None   \n",
       "Lee                     0.0           None           None     None     None   \n",
       "Carmine                 0.0           None           None     None     None   \n",
       "\n",
       "          ...   inspection_put occupy_get occupy_put permit_get  permit_put  \\\n",
       "name      ...                                                                 \n",
       "Ivy       ...             10.0       80.0       70.0         60          50   \n",
       "Edward    ...             10.0       20.5       10.5       None        None   \n",
       "Oswald    ...             10.0       20.5       10.5       None        None   \n",
       "James     ...             10.0       20.5       10.5       None        None   \n",
       "Butch     ...             10.0       20.5       10.5       None        None   \n",
       "Harvey    ...             10.0       20.5       10.5       None        None   \n",
       "Lee       ...             10.0       20.5       10.5       None        None   \n",
       "Carmine   ...             10.0       20.5       10.5       None        None   \n",
       "\n",
       "         recovery_limit_state_start  repair_get  repair_put sba_get sba_put  \n",
       "name                                                                         \n",
       "Ivy                   Disfunctional          70          60    None      30  \n",
       "Edward                   Functional        None        None    None    None  \n",
       "Oswald                   Functional        None        None    None    None  \n",
       "James                    Functional        None        None    None    None  \n",
       "Butch                    Functional        None        None    None    None  \n",
       "Harvey                   Functional        None        None    None    None  \n",
       "Lee                      Functional        None        None    None    None  \n",
       "Carmine                  Functional        None        None    None    None  \n",
       "\n",
       "[8 rows x 25 columns]"
      ]
     },
     "execution_count": 20,
     "metadata": {},
     "output_type": "execute_result"
    }
   ],
   "source": [
    "event_df\n"
   ]
  },
  {
   "cell_type": "code",
   "execution_count": 26,
   "metadata": {},
   "outputs": [
    {
     "data": {
      "application/vnd.jupyter.widget-view+json": {
       "model_id": "5becd5305d22407692d3138807301105"
      }
     },
     "metadata": {},
     "output_type": "display_data"
    }
   ],
   "source": [
    "names = sorted([f for f in df['name']])\n",
    "\n",
    "name_chooser = Dropdown(\n",
    "    options=names\n",
    ")\n",
    "display(name_chooser)"
   ]
  },
  {
   "cell_type": "code",
   "execution_count": 28,
   "metadata": {},
   "outputs": [
    {
     "data": {
      "text/plain": [
       "[<matplotlib.text.Text at 0x12049cc10>, <matplotlib.text.Text at 0x11c84a490>]"
      ]
     },
     "execution_count": 28,
     "metadata": {},
     "output_type": "execute_result"
    },
    {
     "data": {
      "image/png": "[encoded data removed]",
      "text/plain": [
       "<matplotlib.figure.Figure at 0x12047a350>"
      ]
     },
     "metadata": {},
     "output_type": "display_data"
    }
   ],
   "source": [
    "name = name_chooser.value\n",
    "\n",
    "name_row = df[df['name']==name][['inspection_put',\n",
    " 'inspection_get',\n",
    " 'fema_put',\n",
    " 'fema_get',\n",
    " 'assessment_put',\n",
    " 'assessment_get',\n",
    " 'permit_put',\n",
    " 'permit_get',\n",
    "'occupy_put',\n",
    "'occupy_get',\n",
    " 'home_put',\n",
    " 'home_get']]\n",
    "\n",
    "%matplotlib inline\n",
    "plt.figure(figsize=(10,10))\n",
    "sns.set_style(style=\"whitegrid\")\n",
    "sns.set(font_scale=2)\n",
    "ax = sns.stripplot(name_row.iloc[0], name_row.columns, jitter=True, size = 15, linewidth=1)\n",
    "ax.set(xlabel=\"Days After Event\", ylabel=\"Housing Recovery Events for {0}\".format(name))"
   ]
  },
  {
   "cell_type": "code",
   "execution_count": null,
   "metadata": {
    "collapsed": true
   },
   "outputs": [],
   "source": []
  },
  {
   "cell_type": "code",
   "execution_count": null,
   "metadata": {
    "collapsed": true
   },
   "outputs": [],
   "source": []
  }
 ],
 "metadata": {
  "kernelspec": {
   "display_name": "Python 2",
   "language": "python",
   "name": "python2"
  },
  "language_info": {
   "codemirror_mode": {
    "name": "ipython",
    "version": 2
   },
   "file_extension": ".py",
   "mimetype": "text/x-python",
   "name": "python",
   "nbconvert_exporter": "python",
   "pygments_lexer": "ipython2",
   "version": "2.7.13"
  }
 },
 "nbformat": 4,
 "nbformat_minor": 2
}
