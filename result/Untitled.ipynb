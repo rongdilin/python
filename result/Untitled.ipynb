{
 "cells": [
  {
   "cell_type": "code",
   "execution_count": null,
   "metadata": {
    "collapsed": true
   },
   "outputs": [],
   "source": [
    "import sys\n",
    "!{sys.executable} -m pip install simpy\n",
    "!{sys.executable} -m pip install folium\n",
    "!{sys.executable} -m pip install names"
   ]
  },
  {
   "cell_type": "code",
   "execution_count": 1,
   "metadata": {
    "collapsed": true
   },
   "outputs": [],
   "source": [
    "# System modules# Syste \n",
    "import sys\n",
    "from datetime import datetime\n",
    "from IPython.display import display\n",
    "from ipywidgets import Dropdown\n",
    "\n",
    "\n",
    "# Data analysis modules\n",
    "import pandas as pd\n",
    "import numpy as np\n",
    "from scipy import stats  \n",
    "from scipy.stats import uniform, norm, beta, weibull_min, rv_discrete, gamma\n",
    "import random\n",
    "\n",
    "# SimPy modules\n",
    "import simpy\n",
    "from simpy import Resource, Container, FilterStore\n",
    "from simpy.util import start_delayed\n",
    "\n",
    "# Viz modules\n",
    "import matplotlib.pyplot as plt\n",
    "import seaborn as sns\n",
    "import folium\n",
    "from folium import plugins\n",
    "import branca.colormap as cm\n",
    "from folium.plugins import MarkerCluster\n",
    "from folium import Map, FeatureGroup, Marker, LayerControl\n",
    "\n",
    "# DESaster Modules\n",
    "desaster_path = \"./DESaster-master\" # <-- Change this for your path\n",
    "sys.path.append(desaster_path)\n",
    "import desaster\n",
    "from desaster.io import *\n",
    "from desaster.structures import *\n",
    "from desaster.financial import *\n",
    "from desaster.technical import *\n",
    "from desaster.entities import *\n",
    "from desaster.policies import *\n",
    "from desaster.visualize import dashboard, folium_map"
   ]
  },
  {
   "cell_type": "code",
   "execution_count": 2,
   "metadata": {
    "collapsed": true
   },
   "outputs": [],
   "source": [
    "%matplotlib inline"
   ]
  },
  {
   "cell_type": "code",
   "execution_count": 3,
   "metadata": {},
   "outputs": [
    {
     "name": "stderr",
     "output_type": "stream",
     "text": [
      "/Users/rongdilin/anaconda/lib/python2.7/site-packages/IPython/core/interactiveshell.py:2717: DtypeWarning: Columns (25,29,30,31,32,33,34,35,36,38,54,58,59,60,61,62,63,64,65) have mixed types. Specify dtype option on import or set low_memory=False.\n",
      "  interactivity=interactivity, compiler=compiler, result=result)\n",
      "/Users/rongdilin/anaconda/lib/python2.7/site-packages/IPython/core/interactiveshell.py:2717: DtypeWarning: Columns (0) have mixed types. Specify dtype option on import or set low_memory=False.\n",
      "  interactivity=interactivity, compiler=compiler, result=result)\n"
     ]
    }
   ],
   "source": [
    "# cincinnati = pd.read_csv('./DESaster-master/inputs/input_data_cincinnati.csv')\n",
    "# sandiego = pd.read_csv('./DESaster-master/inputs/input_data_sandiego.csv')\n",
    "# washingtondc = pd.read_csv('./DESaster-master/inputs/input_data_washingtondc.csv')\n",
    "\n",
    "\n",
    "seattle = pd.read_csv('./DESaster-master/inputs/input_data_seattle.csv')\n",
    "austin = pd.read_csv('./DESaster-master/inputs/input_data_austin.csv')\n",
    "#louisville = pd.read_csv('./DESaster-master/inputs/input_data_louisville.csv')\n",
    "nashville = pd.read_csv('./DESaster-master/inputs/input_data_nashville.csv')"
   ]
  },
  {
   "cell_type": "code",
   "execution_count": 4,
   "metadata": {
    "collapsed": true
   },
   "outputs": [],
   "source": [
    "#filter seattle\n",
    "seattle_clean = seattle[(seattle['Permit Type'] == 'Construction') & (seattle['Category'] == 'SINGLE FAMILY / DUPLEX')]"
   ]
  },
  {
   "cell_type": "code",
   "execution_count": 5,
   "metadata": {
    "collapsed": true
   },
   "outputs": [],
   "source": [
    "#filter austin\n",
    "austin_clean = austin[(austin['PermitTypeDesc'] == 'Building Permit') & (austin['PermitClass'] == 'C- 101 Single Family Houses')]"
   ]
  },
  {
   "cell_type": "code",
   "execution_count": 6,
   "metadata": {
    "collapsed": true
   },
   "outputs": [],
   "source": [
    "#filter nashville\n",
    "nashville_clean = nashville[(nashville['Permit Type Description'] == 'Building Residential - New') & (nashville['Permit Subtype Description'] == 'Single Family Residence')]"
   ]
  },
  {
   "cell_type": "code",
   "execution_count": 7,
   "metadata": {},
   "outputs": [
    {
     "data": {
      "text/plain": [
       "array([ 9,  0, 22, ..., 12, 13,  5])"
      ]
     },
     "execution_count": 7,
     "metadata": {},
     "output_type": "execute_result"
    }
   ],
   "source": [
    "duration_seattle = (pd.to_datetime(seattle_clean['Issue Date']) - pd.to_datetime(seattle_clean['Application Date'])).dropna()\n",
    "duration_austin = (pd.to_datetime(austin_clean['IssuedDate']) - pd.to_datetime(austin_clean['AppliedDate'])).dropna()\n",
    "duration_nashville = (pd.to_datetime(nashville_clean['Date Issued']) - pd.to_datetime(nashville_clean['Date Entered'])).dropna()\n",
    "\n",
    "\n",
    "duration_seattle = duration_seattle.apply(lambda x: x.days)\n",
    "duration_austin = duration_austin.apply(lambda x: x.days)\n",
    "duration_nashville = duration_nashville.apply(lambda x: x.days)\n",
    "\n",
    "\n",
    "#duration = [duration_seattle, duration_austin, duration_nashville]\n",
    "#duration =[duration_seattle]\n",
    "#duration = [duration_austin]\n",
    "duration = [duration_nashville]\n",
    "duration = pd.concat(duration)\n",
    "duration.as_matrix()"
   ]
  },
  {
   "cell_type": "code",
   "execution_count": 8,
   "metadata": {},
   "outputs": [
    {
     "data": {
      "text/plain": [
       "<matplotlib.legend.Legend at 0x153df9510>"
      ]
     },
     "execution_count": 8,
     "metadata": {},
     "output_type": "execute_result"
    },
    {
     "data": {
      "image/png": "[encoded data removed]",
      "text/plain": [
       "<matplotlib.figure.Figure at 0x110550ed0>"
      ]
     },
     "metadata": {},
     "output_type": "display_data"
    }
   ],
   "source": [
    "f, (ax1, ax2, ax3) = plt.subplots(3, 1, sharex = True, figsize=(8,6))\n",
    "\n",
    "ax1.hist(duration_seattle, bins = 600, normed = True)\n",
    "ax2.hist(duration_austin, bins = 990, normed = True)\n",
    "ax3.hist(duration_nashville, bins = 300, normed = True)\n",
    "\n",
    "plt.xlim(0,200)\n",
    "\n",
    "ax1.set_xlabel('days',labelpad=0.5)\n",
    "ax2.set_xlabel('days',labelpad=0.5)\n",
    "ax3.set_xlabel('days',labelpad=0.5)\n",
    "ax1.set_ylabel('frequency')\n",
    "ax2.set_ylabel('frequency')\n",
    "ax3.set_ylabel('frequency')\n",
    "\n",
    "\n",
    "ax1.legend(['Seattle'])\n",
    "ax2.legend(['Austin'])\n",
    "ax3.legend(['Nashville'])\n",
    "\n",
    "\n"
   ]
  },
  {
   "cell_type": "code",
   "execution_count": 9,
   "metadata": {},
   "outputs": [
    {
     "data": {
      "text/plain": [
       "(0, 600)"
      ]
     },
     "execution_count": 9,
     "metadata": {},
     "output_type": "execute_result"
    },
    {
     "data": {
      "image/png": "[encoded data removed]",
      "text/plain": [
       "<matplotlib.figure.Figure at 0x1105508d0>"
      ]
     },
     "metadata": {},
     "output_type": "display_data"
    }
   ],
   "source": [
    "\"\"\"Histogram of the original dataset\"\"\"\n",
    "plt.hist(duration, bins = 800, normed = True)\n",
    "plt.xlabel('days')\n",
    "plt.ylabel('frequency')\n",
    "plt.xlim(0,600)"
   ]
  },
  {
   "cell_type": "code",
   "execution_count": 10,
   "metadata": {},
   "outputs": [
    {
     "data": {
      "text/plain": [
       "(0, 500)"
      ]
     },
     "execution_count": 10,
     "metadata": {},
     "output_type": "execute_result"
    },
    {
     "data": {
      "image/png": "[encoded data removed]",
      "text/plain": [
       "<matplotlib.figure.Figure at 0x15723d550>"
      ]
     },
     "metadata": {},
     "output_type": "display_data"
    }
   ],
   "source": [
    "\"\"\"Modeling of Oringinal Dataset (currently use)\"\"\"\n",
    "plt.hist(duration, bins = 500, normed = True)\n",
    "plt.axvline(x=10, color='r', linewidth = 2)\n",
    "\n",
    "plt.xlabel('days')\n",
    "plt.ylabel('frequency')\n",
    "plt.title('Histogram')\n",
    "plt.xlim(0,500)\n"
   ]
  },
  {
   "cell_type": "code",
   "execution_count": 11,
   "metadata": {},
   "outputs": [
    {
     "name": "stdout",
     "output_type": "stream",
     "text": [
      "0.191940722696\n",
      "47.5\n",
      "0.0813032886724\n"
     ]
    },
    {
     "data": {
      "image/png": "[encoded data removed]",
      "text/plain": [
       "<matplotlib.figure.Figure at 0x15748d210>"
      ]
     },
     "metadata": {},
     "output_type": "display_data"
    }
   ],
   "source": [
    "\"\"\"Refine dataset for modeling\"\"\"\n",
    "plt.hist(duration, bins = 800, normed = True)\n",
    "plt.xlim(0,600)\n",
    "# Zero\n",
    "zero = [x for x in duration if x == 0]\n",
    "pz = float(len(zero))/len(duration)\n",
    "print pz # %of 0s in dataset\n",
    "nonzero = duration[duration != 0]\n",
    "q1 = nonzero.quantile(q = 0.25) \n",
    "q3 = nonzero.quantile(q = 0.75)\n",
    "stout = 1.5*(q3-q1) + q3 # Turkey's Fences for outlier in upper end\n",
    "print stout \n",
    "out = [x for x in duration if x > 47.5] # not need to be exact same number cuz it's calculated by sampling data\n",
    "po = float(len(out))/len(duration) # %of outliers in dataset\n",
    "print(po)\n"
   ]
  },
  {
   "cell_type": "code",
   "execution_count": 12,
   "metadata": {},
   "outputs": [
    {
     "data": {
      "text/plain": [
       "(0, 200)"
      ]
     },
     "execution_count": 12,
     "metadata": {},
     "output_type": "execute_result"
    },
    {
     "data": {
      "image/png": "[encoded data removed]",
      "text/plain": [
       "<matplotlib.figure.Figure at 0x15768bc50>"
      ]
     },
     "metadata": {},
     "output_type": "display_data"
    }
   ],
   "source": [
    "\"\"\"Histogram of the model dataset\"\"\"\n",
    "dur = [x for x in duration if x > 0 and x < 47.5]\n",
    "plt.hist(dur, bins = 10, normed = True)\n",
    "plt.xlim(0,200)"
   ]
  },
  {
   "cell_type": "code",
   "execution_count": 13,
   "metadata": {},
   "outputs": [
    {
     "name": "stdout",
     "output_type": "stream",
     "text": [
      "11.8997206704 10.3555102289\n"
     ]
    },
    {
     "data": {
      "image/png": "[encoded data removed]",
      "text/plain": [
       "<matplotlib.figure.Figure at 0x157715bd0>"
      ]
     },
     "metadata": {},
     "output_type": "display_data"
    }
   ],
   "source": [
    "\"\"\"Modeling of Normal Distribution\"\"\"\n",
    "f, (ax1, ax2) = plt.subplots(1, 2)\n",
    "ax1.hist(dur, bins = 10, normed = True)\n",
    "lnspc = np.linspace(0, 200)\n",
    "m,s = stats.norm.fit(dur)\n",
    "pdf_g=stats.norm.pdf(lnspc,m,s)\n",
    "print m,s\n",
    "ax1.plot(lnspc,pdf_g, label=\"norm\", color='r')\n",
    "ax1.margins(0.2,0.2,tight=True)\n",
    "ax1.set_xlabel('days')\n",
    "ax1.set_ylabel('frequency')\n",
    "ax1.set_title('Histogram')\n",
    "#plt.xlim(0,200)\n",
    "#plt.ylim(0,200)\n",
    "stats.probplot(dur, dist=\"norm\",sparams=(m,s),plot=ax2)\n",
    "ax2.set_xlim(0,50)\n",
    "ax2.set_ylim(0,50)\n",
    "ax2.margins(0.2,0.2,tight=True)"
   ]
  },
  {
   "cell_type": "code",
   "execution_count": 14,
   "metadata": {},
   "outputs": [
    {
     "name": "stdout",
     "output_type": "stream",
     "text": [
      "0.73408863157 1.0 7.97564536656\n"
     ]
    },
    {
     "data": {
      "text/plain": [
       "(0, 50)"
      ]
     },
     "execution_count": 14,
     "metadata": {},
     "output_type": "execute_result"
    },
    {
     "data": {
      "image/png": "[encoded data removed]",
      "text/plain": [
       "<matplotlib.figure.Figure at 0x157e20390>"
      ]
     },
     "metadata": {},
     "output_type": "display_data"
    }
   ],
   "source": [
    "\"\"\"Modeling of Gamma Distribution\"\"\"\n",
    "f, (ax1, ax2) = plt.subplots(1, 2)\n",
    "ax1.hist(dur, bins = 10, normed = True)\n",
    "lnspc = np.linspace(0, 200)\n",
    "a,l,b = stats.gamma.fit(dur)\n",
    "print a, l, b\n",
    "pdf_g=stats.gamma.pdf(lnspc,a,loc = l, scale = b)\n",
    "\n",
    "ax1.plot(lnspc,pdf_g, label=\"gamma\", color='r')\n",
    "ax1.set_xlabel('day')\n",
    "ax1.set_ylabel('frequency')\n",
    "ax1.set_title('Histogram')\n",
    "#plt.xlim(0,200)\n",
    "#plt.ylim(0,200)\n",
    "stats.probplot(dur, dist=\"gamma\",sparams=(a, l ,b),plot=ax2)\n",
    "ax2.set_xlim(0,50)\n",
    "ax2.set_ylim(0,50)"
   ]
  },
  {
   "cell_type": "code",
   "execution_count": 15,
   "metadata": {},
   "outputs": [
    {
     "name": "stderr",
     "output_type": "stream",
     "text": [
      "/Users/rongdilin/anaconda/lib/python2.7/site-packages/scipy/stats/_continuous_distns.py:404: RuntimeWarning: invalid value encountered in sqrt\n",
      "  sk = 2*(b-a)*np.sqrt(a + b + 1) / (a + b + 2) / np.sqrt(a*b)\n"
     ]
    },
    {
     "name": "stdout",
     "output_type": "stream",
     "text": [
      "0.900023307975 4.12174821178 1.0 49.1038017854\n"
     ]
    },
    {
     "data": {
      "text/plain": [
       "(0, 50)"
      ]
     },
     "execution_count": 15,
     "metadata": {},
     "output_type": "execute_result"
    },
    {
     "data": {
      "image/png": "[encoded data removed]",
      "text/plain": [
       "<matplotlib.figure.Figure at 0x1575a4510>"
      ]
     },
     "metadata": {},
     "output_type": "display_data"
    }
   ],
   "source": [
    "\"\"\"Modeling of Beta Distribution\"\"\"\n",
    "f, (ax1, ax2) = plt.subplots(1, 2)\n",
    "ax1.hist(dur, bins = 10, normed = True)\n",
    "lnspc = np.linspace(0, 200)\n",
    "a,b,l,s = stats.beta.fit(dur)\n",
    "print a, b, l, s\n",
    "pdf_g=stats.beta.pdf(lnspc,a,b,l,s)\n",
    "\n",
    "ax1.plot(lnspc,pdf_g, label=\"beta\", color='r')\n",
    "ax1.set_xlabel('day')\n",
    "ax1.set_ylabel('frequency')\n",
    "ax1.set_xlabel('days')\n",
    "ax1.set_ylabel('frequency')\n",
    "ax1.set_title('Histogram')\n",
    "#plt.xlim(0,200)\n",
    "#plt.ylim(0,200)\n",
    "stats.probplot(dur, dist=\"beta\",sparams=(a,b,l,s),plot=ax2)\n",
    "ax2.set_xlim(0,50)\n",
    "ax2.set_ylim(0,50)\n"
   ]
  },
  {
   "cell_type": "code",
   "execution_count": 16,
   "metadata": {},
   "outputs": [
    {
     "name": "stdout",
     "output_type": "stream",
     "text": [
      "2.82016334755 -12.6066921154 59.8117271287\n"
     ]
    },
    {
     "name": "stderr",
     "output_type": "stream",
     "text": [
      "/Users/rongdilin/anaconda/lib/python2.7/site-packages/scipy/stats/_distn_infrastructure.py:2303: RuntimeWarning: invalid value encountered in double_scalars\n",
      "  Lhat = muhat - Shat*mu\n"
     ]
    },
    {
     "data": {
      "text/plain": [
       "(0, 230)"
      ]
     },
     "execution_count": 16,
     "metadata": {},
     "output_type": "execute_result"
    },
    {
     "data": {
      "image/png": "[encoded data removed]",
      "text/plain": [
       "<matplotlib.figure.Figure at 0x15750d3d0>"
      ]
     },
     "metadata": {},
     "output_type": "display_data"
    }
   ],
   "source": [
    "\"\"\"Modeling of Alpha Distribution\"\"\"\n",
    "f, (ax1, ax2) = plt.subplots(1, 2)\n",
    "ax1.hist(dur, bins = 10, normed = True)\n",
    "lnspc = np.linspace(0, 200)\n",
    "a,l,scale = stats.alpha.fit(dur)\n",
    "print a,l, scale\n",
    "pdf_g=stats.alpha.pdf(lnspc,a,l,scale)\n",
    "\n",
    "ax1.plot(lnspc,pdf_g, label=\"Alpha\", color='r')\n",
    "ax1.set_xlabel('day')\n",
    "ax1.set_ylabel('frequency')\n",
    "\n",
    "ax1.set_title('Histogram')\n",
    "#plt.xlim(0,200)\n",
    "#plt.ylim(0,200)\n",
    "stats.probplot(dur, dist=\"alpha\",sparams=(a,l,scale),plot=ax2) # deep dive to see red line -- e.g. param: line\n",
    "ax2.set_xlim(0,230)\n",
    "ax2.set_ylim(0,230)"
   ]
  },
  {
   "cell_type": "code",
   "execution_count": null,
   "metadata": {},
   "outputs": [],
   "source": [
    "\"\"\"Modeling of Fisk Distribution\"\"\"\n",
    "f, (ax1, ax2) = plt.subplots(1, 2)\n",
    "ax1.hist(dur, bins = 10, normed = True)\n",
    "lnspc = np.linspace(0, 200)\n",
    "c,l,scale = stats.fisk.fit(dur)\n",
    "print c,l, scale\n",
    "pdf_g=stats.fisk.pdf(lnspc,c,l,scale)\n",
    "\n",
    "ax1.plot(lnspc,pdf_g, label=\"Fisk\", color='r')\n",
    "\n",
    "ax1.set_xlabel('day')\n",
    "ax1.set_ylabel('frequency')\n",
    "\n",
    "ax1.set_title('Histogram')\n",
    "#plt.xlim(0,200)\n",
    "#plt.ylim(0,200)\n",
    "stats.probplot(dur, dist=\"fisk\",sparams=(c,l,scale),plot=ax2)\n",
    "ax2.set_xlim(0,300)\n",
    "ax2.set_ylim(0,300)"
   ]
  },
  {
   "cell_type": "code",
   "execution_count": null,
   "metadata": {},
   "outputs": [],
   "source": [
    "owners_df = pd.read_excel('./DESaster-master/inputs/desaster_input_data_template.xlsx')\n",
    "owners_df.columns\n"
   ]
  },
  {
   "cell_type": "code",
   "execution_count": null,
   "metadata": {
    "collapsed": true
   },
   "outputs": [],
   "source": [
    "env = simpy.Environment()"
   ]
  },
  {
   "cell_type": "code",
   "execution_count": null,
   "metadata": {
    "collapsed": true
   },
   "outputs": [],
   "source": [
    "write_story = True"
   ]
  },
  {
   "cell_type": "code",
   "execution_count": null,
   "metadata": {
    "collapsed": true
   },
   "outputs": [],
   "source": [
    "import random\n",
    "def myfunc():\n",
    "    prob = random.uniform(0,1)\n",
    "    print prob\n",
    "    if prob < 0.38:\n",
    "        return norm(0,0)\n",
    "    else:\n",
    "        return gamma(0.883, 1.0, 49) # input params of the fitted model"
   ]
  },
  {
   "cell_type": "code",
   "execution_count": null,
   "metadata": {
    "collapsed": true
   },
   "outputs": [],
   "source": [
    "import random\n",
    "def myfunc():\n",
    "    prob = random.uniform(0,1)\n",
    "    print prob\n",
    "    if prob < 0.38:\n",
    "        return norm(0,0)\n",
    "    else:\n",
    "        return beta(0.78, 1.99) # input params of the fitted model"
   ]
  },
  {
   "cell_type": "code",
   "execution_count": null,
   "metadata": {},
   "outputs": [],
   "source": [
    "myfunc().rvs()"
   ]
  },
  {
   "cell_type": "code",
   "execution_count": null,
   "metadata": {},
   "outputs": [],
   "source": [
    "fema_ia_dist = norm(loc = 10, scale = 0)\n",
    "sba_home_sba_dist = norm(loc = 10, scale = 0)\n",
    "sba_biz_sba_dist = norm(loc = 10, scale = 0)\n",
    "insurance_dist = norm(loc = 10, scale = 0)\n",
    "start_delay_dist = norm(loc = 10, scale = 0)\n",
    "inspection_dist = norm(loc = 0.5, scale = 0)\n",
    "assessment_dist = norm(loc = 10, scale = 0)\n",
    "permitting_dist = myfunc() # remember to delete the .rvs() in the ProgramPermit self.duration.rvs()\n",
    "print(permitting_dist)\n",
    "repair_dist = norm(loc = 10, scale = 0)\n",
    "demolition_dist = norm(loc = 10, scale = 0)\n",
    "occupy_dist = norm(loc = 10, scale = 0)\n",
    "find_home_dist = norm(loc = 10, scale = 0)\n",
    "\n",
    "declaration = norm.rvs(loc = 30, scale = 0) # Placeholder deterministic scalar that defines number of days before federal disaster declared\n",
    "sba_deadline = norm.rvs(loc = 60, scale = 0) # Typically duration in days after declaration that SBA applications must be submitted"
   ]
  },
  {
   "cell_type": "code",
   "execution_count": null,
   "metadata": {
    "collapsed": true
   },
   "outputs": [],
   "source": [
    "# Instantiate a FEMA Individual Assistance program\n",
    "fema_ia = HousingAssistanceFEMA(env, staff=100, budget=10000000, duration=fema_ia_dist, \n",
    "                                max_outlay=30000, deadline=540, declaration=declaration)\n",
    "\n",
    "# Instantiate a SBA Loan program to use w/ OwnerHouseholds\n",
    "sba_home_loan = RealPropertyLoanSBA(env, officers=10, inspectors=10, duration=sba_home_sba_dist, \n",
    "                                max_loan = 200000, min_credit = 600, deadline=sba_deadline,\n",
    "                                declaration=declaration)\n",
    "\n",
    "# Instantiate a SBA Loan program to use w/ Landlords (higher maximum for businesses)\n",
    "sba_biz_loan = RealPropertyLoanSBA(env, officers=10, inspectors=10, duration=sba_biz_sba_dist, \n",
    "                           max_loan = 2000000, deadline=sba_deadline, declaration=declaration) # SBA max biz loan = $2mil\n",
    "\n",
    "# Instantiate a private insurance program\n",
    "insurance = OwnersInsurance(env, staff=100, deductible=0.0, duration=insurance_dist)\n",
    "\n",
    "# Instantiate a rapid inspeaction (tagging) program\n",
    "inspection = InspectionProgram(env, staff=1000, duration=inspection_dist)\n",
    "\n",
    "# Instantiate a detailed engineering assessment program\n",
    "assessment = EngineeringAssessment(env, staff=1000, duration=assessment_dist)\n",
    "\n",
    "# Instantiate a building permit processing program\n",
    "permitting = PermitProgram(env, staff=1000, duration=permitting_dist) \n",
    "\n",
    "# Instantiate a program to represent private repair contractors\n",
    "repair = RepairProgram(env, staff=1000, materials=1000000000, duration=repair_dist)\n",
    "\n",
    "# Instantiate a program to represent private demolition contractors\n",
    "demolition = DemolitionProgram(env, staff=1000, duration=demolition_dist)"
   ]
  },
  {
   "cell_type": "code",
   "execution_count": null,
   "metadata": {
    "collapsed": true
   },
   "outputs": [],
   "source": [
    "# Apply for insurance, FEMA IA, and SBA in that seqence\n",
    "insurance_ia_sba_seq = Insurance_IA_SBA_Sequential(env)\n",
    "\n",
    "# Apply for insurance, FEMA IA, and SBA in at the same time\n",
    "insurance_ia_sba_para = Insurance_IA_SBA_Parallel(env)\n",
    "\n",
    "# Apply for insurance first, then apply to FEMA IA and SBA at the same time\n",
    "insurance_firstthen_ia_sba_para = Insurance_FirstThen_IA_SBA_Parallel(env)\n",
    "\n",
    "# Apply for insurance and SBA in that seqence\n",
    "insurance_sba_seq = Insurance_SBA_Sequential(env)\n",
    "\n",
    "# Apply for insurance and SBA at the same time\n",
    "insurance_sba_para = Insurance_SBA_Parallel(env)\n",
    "\n",
    "# A policy to simulate government buyout to repair homes \n",
    "repair_stock = RepairVacantBuilding(env)"
   ]
  },
  {
   "cell_type": "code",
   "execution_count": null,
   "metadata": {
    "collapsed": true
   },
   "outputs": [],
   "source": [
    "owned_stock = FilterStore(env)  # To put the residences associated with owners\n",
    "\n",
    "forsale_stock = FilterStore(env) # To put the homes associated with vacant home sellers\n",
    "forrent_stock = FilterStore(env) # To put the homes associated with vacant home landlords"
   ]
  },
  {
   "cell_type": "code",
   "execution_count": null,
   "metadata": {
    "collapsed": true
   },
   "outputs": [],
   "source": [
    "# owners_df = nashville_clean\n",
    "\n",
    "owners = importEntities(env, owners_df, 'OwnerHousehold', owned_stock, write_story)"
   ]
  },
  {
   "cell_type": "code",
   "execution_count": null,
   "metadata": {
    "collapsed": true
   },
   "outputs": [],
   "source": [
    "def basic_process(inspection_program, assessment_program, permit_program, repair_program, entity):\n",
    "        \n",
    "    yield env.process(inspection_program.process(entity.property, entity))\n",
    "    \n",
    "    yield env.process(assessment_program.process(entity.property, entity))\n",
    "    \n",
    "    yield env.process(permit_program.process(entity.property, entity))\n",
    "    \n",
    "    yield env.process(repair_program.process(entity.property, entity))"
   ]
  },
  {
   "cell_type": "code",
   "execution_count": null,
   "metadata": {
    "collapsed": true
   },
   "outputs": [],
   "source": [
    "def owner_process(env, inspection_program, insurance_program, fema_program, loan_program, \n",
    "                 assessment_program, permit_program, demolish_program, rebuild_program, \n",
    "                  search_stock, entity):\n",
    "    \n",
    "    money_patience = 200000  # days until give up the search for rebuild money\n",
    "    home_patience = 15000  # days until give up the search for a new home\n",
    "    \n",
    "    # Do inspections after inspectors are mobilized\n",
    "    yield env.timeout(start_delay_dist.rvs())\n",
    "    yield env.process(inspection_program.process(entity.property, entity))\n",
    "    \n",
    "    # Process damaged properties\n",
    "    if entity.property.damage_state == 'None':\n",
    "        yield env.process(entity.occupy(duration = occupy_dist)) # For book keeping; ~unrealistic \n",
    "    else:\n",
    "        \n",
    "        # Homeowner search for financial assistance. Note two alternate versions \n",
    "        # can be used: insurance_ia_sba_para, insurance_ia_sba_seq, and insurance_firstthen_ia_sba_para. \n",
    "        # Paste in the desired policy approach below.\n",
    "        yield env.process(insurance_firstthen_ia_sba_para.policy(insurance_program, fema_program,\n",
    "                                                   loan_program, entity, money_patience))\n",
    "\n",
    "        # If not enough money to repair home or home completely damaged, search for a new home \n",
    "        # to purchase.\n",
    "        if (entity.recovery_funds.level < entity.property.damage_value or\n",
    "                entity.property.damage_state == 'Complete'):\n",
    "\n",
    "            yield env.process(entity.find_home(search_stock, find_home_dist, down_payment_pct = 0.10,\n",
    "                                                  search_patience = home_patience))\n",
    "            \n",
    "            if entity.gave_up_home_search == None:\n",
    "                yield env.process(entity.occupy(duration = occupy_dist))\n",
    "            \n",
    "            return\n",
    "        # Otherwise repair home.       \n",
    "        elif entity.recovery_funds.level >= entity.property.damage_value:\n",
    "            \n",
    "            yield env.process(assessment_program.process(entity.property, entity))\n",
    "            yield env.process(permit_program.process(entity.property, entity))\n",
    "            if entity.property.damage_state == 'Extensive' or entity.property.damage_state == 'Complete':\n",
    "                yield env.process(demolish_program.process(entity.property, entity))\n",
    "            yield env.process(rebuild_program.process(entity.property, entity))    \n",
    "            yield env.process(entity.occupy(duration = occupy_dist))"
   ]
  },
  {
   "cell_type": "code",
   "execution_count": null,
   "metadata": {
    "collapsed": true
   },
   "outputs": [],
   "source": [
    "#inspect.getfullargspec(owner_process).args # Useful to determine what arguments are required for the process.\n",
    "\n",
    "for i in range(len(owners)):\n",
    "    env.process(owner_process(env, inspection, insurance, fema_ia, sba_home_loan, \n",
    "                                    assessment, permitting, demolition, repair,\n",
    "                                    owned_stock, owners[i]))"
   ]
  },
  {
   "cell_type": "code",
   "execution_count": null,
   "metadata": {
    "collapsed": true
   },
   "outputs": [],
   "source": [
    "env.run()"
   ]
  },
  {
   "cell_type": "code",
   "execution_count": null,
   "metadata": {},
   "outputs": [],
   "source": [
    "output_summary(owners, 'OwnerHousehold')"
   ]
  },
  {
   "cell_type": "code",
   "execution_count": null,
   "metadata": {},
   "outputs": [],
   "source": [
    "owners[0].story\n"
   ]
  },
  {
   "cell_type": "code",
   "execution_count": null,
   "metadata": {},
   "outputs": [],
   "source": [
    "df = households_to_df(owners)"
   ]
  },
  {
   "cell_type": "code",
   "execution_count": null,
   "metadata": {},
   "outputs": [],
   "source": [
    "df.columns"
   ]
  },
  {
   "cell_type": "code",
   "execution_count": null,
   "metadata": {
    "collapsed": true
   },
   "outputs": [],
   "source": [
    "event_list=[]\n",
    "\n",
    "for i in df.columns:\n",
    "    if \"get\" in i or \"put\" in i or \"stop\" in i or \"start\" in i or \"name\" in i or \"gave\" in i:\n",
    "        event_list.append(i)\n",
    "\n",
    "event_df = df[event_list]\n",
    "event_df = event_df.set_index('name')"
   ]
  },
  {
   "cell_type": "code",
   "execution_count": null,
   "metadata": {},
   "outputs": [],
   "source": [
    "event_df"
   ]
  },
  {
   "cell_type": "code",
   "execution_count": null,
   "metadata": {},
   "outputs": [],
   "source": [
    "names = sorted([f for f in df['name']])\n",
    "\n",
    "name_chooser = Dropdown(\n",
    "    options=names\n",
    ")\n",
    "display(name_chooser)"
   ]
  },
  {
   "cell_type": "code",
   "execution_count": null,
   "metadata": {},
   "outputs": [],
   "source": [
    "name = name_chooser.value\n",
    "\n",
    "name_row = df[df['name']==name][['inspection_put',\n",
    " 'inspection_get',\n",
    " 'fema_put',\n",
    " 'fema_get',\n",
    " 'assessment_put',\n",
    " 'assessment_get',\n",
    " 'permit_put',\n",
    " 'permit_get',\n",
    "'occupy_put',\n",
    "'occupy_get',\n",
    " 'home_put',\n",
    " 'home_get']]\n",
    "\n",
    "%matplotlib inline\n",
    "plt.figure(figsize=(10,10))\n",
    "sns.set_style(style=\"whitegrid\")\n",
    "sns.set(font_scale=2)\n",
    "ax = sns.stripplot(name_row.iloc[0], name_row.columns, jitter=True, size = 15, linewidth=1)\n",
    "ax.set(xlabel=\"Days After Event\", ylabel=\"Housing Recovery Events for {0}\".format(name))"
   ]
  },
  {
   "cell_type": "code",
   "execution_count": null,
   "metadata": {
    "collapsed": true
   },
   "outputs": [],
   "source": []
  }
 ],
 "metadata": {
  "kernelspec": {
   "display_name": "Python 2",
   "language": "python",
   "name": "python2"
  },
  "language_info": {
   "codemirror_mode": {
    "name": "ipython",
    "version": 2
   },
   "file_extension": ".py",
   "mimetype": "text/x-python",
   "name": "python",
   "nbconvert_exporter": "python",
   "pygments_lexer": "ipython2",
   "version": "2.7.13"
  }
 },
 "nbformat": 4,
 "nbformat_minor": 2
}
